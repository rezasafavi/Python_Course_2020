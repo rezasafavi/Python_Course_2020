{
 "cells": [
  {
   "cell_type": "code",
   "execution_count": 2,
   "id": "82d337fe",
   "metadata": {},
   "outputs": [
    {
     "name": "stdout",
     "output_type": "stream",
     "text": [
      "Select operation\n",
      "1.Add\n",
      "2.Subtract\n",
      "3.Multiply\n",
      "4.Divide\n",
      "Enter choice(1/2/3/4):4\n",
      "Enter first number:20\n",
      "Enter second number:5\n",
      "20.0 / 5.0 = 4.0\n"
     ]
    }
   ],
   "source": [
    "# This function addition two number\n",
    "def addition(x,y):\n",
    "    return x+y\n",
    "\n",
    "# This function subtract two number\n",
    "def subtract(x,y):\n",
    "    return x-y\n",
    "\n",
    "# This function subtract two number\n",
    "def multiply(x,y):\n",
    "    return x*y\n",
    "\n",
    "# This function subtract two number\n",
    "def divide(x,y):\n",
    "    return x/y\n",
    "\n",
    "\n",
    "print(\"Select operation\")\n",
    "print(\"1.Add\")\n",
    "print(\"2.Subtract\")\n",
    "print(\"3.Multiply\")\n",
    "print(\"4.Divide\")\n",
    "\n",
    "\n",
    "def cal():\n",
    "    choice = input(\"Enter choice(1/2/3/4):\")\n",
    "    tuple_num = (\"1\",\"2\",\"3\",\"4\")\n",
    "    # check if choice in one of the four operation\n",
    "    if choice in tuple_num:\n",
    "        num1 = float(input(\"Enter first number:\"))\n",
    "        num2 = float(input(\"Enter second number:\"))\n",
    "        \n",
    "\n",
    "        if choice==\"1\":\n",
    "            print(num1,\"+\",num2,\"=\",addition(num1,num2))\n",
    "            \n",
    "        elif choice==\"2\":\n",
    "            print(num1,\"-\",num2,\"=\",subtract(num1,num2))\n",
    "            \n",
    "        elif choice==\"3\":\n",
    "            print(num1,\"*\",num2,\"=\",multiply(num1,num2))\n",
    "            \n",
    "        elif choice==\"4\":\n",
    "            print(num1,\"/\",num2,\"=\",divide(num1,num2))\n",
    "            \n",
    "        else:\n",
    "            print(\"Invalid Input\")\n",
    "\n",
    "        \n",
    "cal()"
   ]
  },
  {
   "cell_type": "code",
   "execution_count": null,
   "id": "8c4b23b9",
   "metadata": {},
   "outputs": [],
   "source": []
  }
 ],
 "metadata": {
  "kernelspec": {
   "display_name": "Python 3 (ipykernel)",
   "language": "python",
   "name": "python3"
  },
  "language_info": {
   "codemirror_mode": {
    "name": "ipython",
    "version": 3
   },
   "file_extension": ".py",
   "mimetype": "text/x-python",
   "name": "python",
   "nbconvert_exporter": "python",
   "pygments_lexer": "ipython3",
   "version": "3.10.0"
  }
 },
 "nbformat": 4,
 "nbformat_minor": 5
}
