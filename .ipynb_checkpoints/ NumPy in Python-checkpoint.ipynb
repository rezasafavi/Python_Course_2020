{
 "cells": [
  {
   "cell_type": "code",
   "execution_count": 1,
   "id": "b448c638",
   "metadata": {},
   "outputs": [],
   "source": [
    "import numpy as np"
   ]
  },
  {
   "cell_type": "code",
   "execution_count": 2,
   "id": "dd2a31e3",
   "metadata": {},
   "outputs": [
    {
     "name": "stdout",
     "output_type": "stream",
     "text": [
      "[5.770e-01 1.618e+00 2.718e+00 3.140e+00 6.000e+00 2.800e+01 3.700e+01\n",
      " 1.729e+03]\n",
      "float64\n"
     ]
    }
   ],
   "source": [
    "numpy_array = np.array([0.577, 1.618, 2.718, 3.14, 6, 28, 37, 1729])\n",
    "print(numpy_array)\n",
    "print(numpy_array.dtype)"
   ]
  },
  {
   "cell_type": "code",
   "execution_count": 3,
   "id": "d9e8ec57",
   "metadata": {},
   "outputs": [
    {
     "name": "stdout",
     "output_type": "stream",
     "text": [
      "[[5.770e-01 1.618e+00 2.718e+00 3.140e+00]\n",
      " [6.000e+00 2.800e+01 3.700e+01 1.729e+03]]\n",
      "float64\n"
     ]
    }
   ],
   "source": [
    "numpy_array = np.array([0.577, 1.618, 2.718, 3.14, 6, 28, 37, 1729]).reshape(2, 4)\n",
    "print(numpy_array)\n",
    "print(numpy_array.dtype)"
   ]
  },
  {
   "cell_type": "code",
   "execution_count": 4,
   "id": "3e38747a",
   "metadata": {},
   "outputs": [
    {
     "name": "stdout",
     "output_type": "stream",
     "text": [
      "[[5.770e-01 1.618e+00]\n",
      " [2.718e+00 3.140e+00]\n",
      " [6.000e+00 2.800e+01]\n",
      " [3.700e+01 1.729e+03]]\n",
      "float64\n"
     ]
    }
   ],
   "source": [
    "numpy_array = np.array([0.577, 1.618, 2.718, 3.14, 6, 28, 37, 1729]).reshape(4, 2)\n",
    "print(numpy_array)\n",
    "print(numpy_array.dtype)"
   ]
  },
  {
   "cell_type": "code",
   "execution_count": 5,
   "id": "ccf965cd",
   "metadata": {},
   "outputs": [
    {
     "name": "stdout",
     "output_type": "stream",
     "text": [
      "[[ 0  1  1]\n",
      " [ 2  3  5]\n",
      " [ 8 13 21]]\n"
     ]
    }
   ],
   "source": [
    "# The following code returns a sequence of two dimensional array\n",
    "numpy_array = np.array([(0, 1, 1), (2, 3, 5), (8, 13, 21)])\n",
    "print(numpy_array)"
   ]
  },
  {
   "cell_type": "code",
   "execution_count": 6,
   "id": "685460d5",
   "metadata": {},
   "outputs": [
    {
     "name": "stdout",
     "output_type": "stream",
     "text": [
      "[[ 0.+0.j  1.+0.j  1.+0.j]\n",
      " [ 2.+0.j  3.+0.j  5.+0.j]\n",
      " [ 8.+0.j 13.+0.j 21.+0.j]]\n"
     ]
    }
   ],
   "source": [
    "# To transfrom data type into complex number\n",
    "numpy_array = np.array([(0, 1, 1), (2, 3, 5), (8, 13, 21)], dtype = complex)\n",
    "print(numpy_array)"
   ]
  },
  {
   "cell_type": "code",
   "execution_count": 7,
   "id": "d9c207c9",
   "metadata": {},
   "outputs": [
    {
     "name": "stdout",
     "output_type": "stream",
     "text": [
      "[ 0  5 10 15 20 25 30 35 40 45 50 55 60 65 70 75 80 85 90 95]\n",
      "20\n"
     ]
    }
   ],
   "source": [
    "#arange()\n",
    "#np.arange(start, end, step, dtype)\n",
    "numpy_array = np.arange(0, 100, 5, int)\n",
    "print(numpy_array)\n",
    "print(len(numpy_array))"
   ]
  },
  {
   "cell_type": "code",
   "execution_count": 8,
   "id": "0dbe333c",
   "metadata": {},
   "outputs": [
    {
     "name": "stdout",
     "output_type": "stream",
     "text": [
      "[[ 0  5 10 15 20]\n",
      " [25 30 35 40 45]\n",
      " [50 55 60 65 70]\n",
      " [75 80 85 90 95]]\n"
     ]
    }
   ],
   "source": [
    "numpy_array = np.arange(0, 100, 5, int)\n",
    "numpy_array.shape=(4, 5)\n",
    "print(numpy_array)"
   ]
  },
  {
   "cell_type": "code",
   "execution_count": 9,
   "id": "77214cc9",
   "metadata": {},
   "outputs": [
    {
     "name": "stdout",
     "output_type": "stream",
     "text": [
      "[[ 0  5 10 15 20]\n",
      " [25 30 35 40 45]\n",
      " [50 55 60 65 70]\n",
      " [75 80 85 90 95]]\n"
     ]
    }
   ],
   "source": [
    "numpy_array = np.arange(0, 100, 5, int).reshape(4, 5)\n",
    "print(numpy_array)"
   ]
  },
  {
   "cell_type": "code",
   "execution_count": 10,
   "id": "e92b4d2d",
   "metadata": {},
   "outputs": [
    {
     "name": "stdout",
     "output_type": "stream",
     "text": [
      "[ 2  5  8 11 14 17 20 23 26 29 32 35]\n",
      "<class 'numpy.ndarray'>\n"
     ]
    }
   ],
   "source": [
    "# Type of arange\n",
    "numpy_array = np.arange(2, 37, 3)\n",
    "print(numpy_array)\n",
    "print(type(numpy_array))"
   ]
  },
  {
   "cell_type": "code",
   "execution_count": 11,
   "id": "b6c01f66",
   "metadata": {},
   "outputs": [
    {
     "name": "stdout",
     "output_type": "stream",
     "text": [
      "[[0. 0. 0. 0.]\n",
      " [0. 0. 0. 0.]\n",
      " [0. 0. 0. 0.]]\n",
      "<class 'numpy.ndarray'>\n"
     ]
    }
   ],
   "source": [
    "numpy_zeros = np.zeros((3, 4))\n",
    "print(numpy_zeros)\n",
    "print(type(numpy_zeros))"
   ]
  },
  {
   "cell_type": "code",
   "execution_count": 12,
   "id": "037040f7",
   "metadata": {},
   "outputs": [
    {
     "name": "stdout",
     "output_type": "stream",
     "text": [
      "[[0 0 0 0]\n",
      " [0 0 0 0]\n",
      " [0 0 0 0]]\n",
      "<class 'numpy.ndarray'>\n"
     ]
    }
   ],
   "source": [
    "numpy_zeros = np.zeros((3, 4), dtype = int)\n",
    "print(numpy_zeros)\n",
    "print(type(numpy_zeros))"
   ]
  },
  {
   "cell_type": "code",
   "execution_count": 13,
   "id": "2a13ed69",
   "metadata": {},
   "outputs": [
    {
     "name": "stdout",
     "output_type": "stream",
     "text": [
      "[[0.+0.j 0.+0.j 0.+0.j 0.+0.j]\n",
      " [0.+0.j 0.+0.j 0.+0.j 0.+0.j]\n",
      " [0.+0.j 0.+0.j 0.+0.j 0.+0.j]]\n",
      "<class 'numpy.ndarray'>\n"
     ]
    }
   ],
   "source": [
    "numpy_zeros = np.zeros((3, 4), dtype = complex)\n",
    "print(numpy_zeros)\n",
    "print(type(numpy_zeros))"
   ]
  },
  {
   "cell_type": "code",
   "execution_count": 14,
   "id": "2c20f998",
   "metadata": {},
   "outputs": [
    {
     "name": "stdout",
     "output_type": "stream",
     "text": [
      "[[False False False False]\n",
      " [False False False False]\n",
      " [False False False False]]\n",
      "<class 'numpy.ndarray'>\n"
     ]
    }
   ],
   "source": [
    "numpy_zeros = np.zeros((3, 4), dtype = bool)\n",
    "print(numpy_zeros)\n",
    "print(type(numpy_zeros))"
   ]
  },
  {
   "cell_type": "code",
   "execution_count": 15,
   "id": "6f7701f8",
   "metadata": {},
   "outputs": [
    {
     "name": "stdout",
     "output_type": "stream",
     "text": [
      "[[1. 1. 1. 1.]\n",
      " [1. 1. 1. 1.]\n",
      " [1. 1. 1. 1.]]\n",
      "<class 'numpy.ndarray'>\n"
     ]
    }
   ],
   "source": [
    "numpy_ones = np.ones((3, 4))\n",
    "print(numpy_ones)\n",
    "print(type(numpy_ones))"
   ]
  },
  {
   "cell_type": "code",
   "execution_count": 16,
   "id": "b9d64c12",
   "metadata": {},
   "outputs": [
    {
     "name": "stdout",
     "output_type": "stream",
     "text": [
      "[[1 1 1 1]\n",
      " [1 1 1 1]\n",
      " [1 1 1 1]]\n",
      "<class 'numpy.ndarray'>\n"
     ]
    }
   ],
   "source": [
    "numpy_ones = np.ones((3, 4), dtype =int)\n",
    "print(numpy_ones)\n",
    "print(type(numpy_ones))"
   ]
  },
  {
   "cell_type": "code",
   "execution_count": 17,
   "id": "44d01bd3",
   "metadata": {},
   "outputs": [
    {
     "name": "stdout",
     "output_type": "stream",
     "text": [
      "[[1.+0.j 1.+0.j 1.+0.j 1.+0.j]\n",
      " [1.+0.j 1.+0.j 1.+0.j 1.+0.j]\n",
      " [1.+0.j 1.+0.j 1.+0.j 1.+0.j]]\n",
      "<class 'numpy.ndarray'>\n"
     ]
    }
   ],
   "source": [
    "numpy_ones = np.ones((3, 4), dtype =complex)\n",
    "print(numpy_ones)\n",
    "print(type(numpy_ones))"
   ]
  },
  {
   "cell_type": "code",
   "execution_count": 18,
   "id": "9161c856",
   "metadata": {},
   "outputs": [
    {
     "name": "stdout",
     "output_type": "stream",
     "text": [
      "[[ True  True  True  True]\n",
      " [ True  True  True  True]\n",
      " [ True  True  True  True]]\n",
      "<class 'numpy.ndarray'>\n"
     ]
    }
   ],
   "source": [
    "numpy_ones = np.ones((3, 4), dtype =bool)\n",
    "print(numpy_ones)\n",
    "print(type(numpy_ones))"
   ]
  },
  {
   "cell_type": "code",
   "execution_count": null,
   "id": "e5e818b5",
   "metadata": {},
   "outputs": [],
   "source": []
  }
 ],
 "metadata": {
  "kernelspec": {
   "display_name": "Python 3 (ipykernel)",
   "language": "python",
   "name": "python3"
  },
  "language_info": {
   "codemirror_mode": {
    "name": "ipython",
    "version": 3
   },
   "file_extension": ".py",
   "mimetype": "text/x-python",
   "name": "python",
   "nbconvert_exporter": "python",
   "pygments_lexer": "ipython3",
   "version": "3.10.0"
  }
 },
 "nbformat": 4,
 "nbformat_minor": 5
}
